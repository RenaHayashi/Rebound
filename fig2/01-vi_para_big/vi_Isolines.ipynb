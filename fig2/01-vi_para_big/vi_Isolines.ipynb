{
 "cells": [
  {
   "cell_type": "code",
   "execution_count": 1,
   "id": "bc6f044c",
   "metadata": {},
   "outputs": [],
   "source": [
    "import pandas as pd\n",
    "import matplotlib.pyplot as plt\n",
    "from matplotlib import ticker, cm, colors\n",
    "from matplotlib.colors import LogNorm\n",
    "import seaborn as sns\n",
    "import numpy as np\n",
    "from scipy.integrate import odeint\n",
    "from scipy.integrate import ode\n",
    "import scipy.ndimage\n",
    "import glob\n",
    "import os\n",
    "from fractions import Fraction\n",
    "import csv\n",
    "import itertools"
   ]
  },
  {
   "cell_type": "code",
   "execution_count": 2,
   "id": "07b1f78e",
   "metadata": {},
   "outputs": [
    {
     "name": "stdout",
     "output_type": "stream",
     "text": [
      "49\n",
      "74\n",
      "[0.2 0.4 0.6 0.8 1.  1.2 1.4 1.6 1.8 2.  2.2 2.4 2.6 2.8 3.  3.2 3.4 3.6\n",
      " 3.8 4.  4.2 4.4 4.6 4.8 5.  5.2 5.4 5.6 5.8 6.  6.2 6.4 6.6 6.8 7.  7.2\n",
      " 7.4 7.6 7.8 8.  8.2 8.4 8.6 8.8 9.  9.2 9.4 9.6 9.8]\n",
      "[ 0.2  0.4  0.6  0.8  1.   1.2  1.4  1.6  1.8  2.   2.2  2.4  2.6  2.8\n",
      "  3.   3.2  3.4  3.6  3.8  4.   4.2  4.4  4.6  4.8  5.   5.2  5.4  5.6\n",
      "  5.8  6.   6.2  6.4  6.6  6.8  7.   7.2  7.4  7.6  7.8  8.   8.2  8.4\n",
      "  8.6  8.8  9.   9.2  9.4  9.6  9.8 10.  10.2 10.4 10.6 10.8 11.  11.2\n",
      " 11.4 11.6 11.8 12.  12.2 12.4 12.6 12.8 13.  13.2 13.4 13.6 13.8 14.\n",
      " 14.2 14.4 14.6 14.8]\n"
     ]
    }
   ],
   "source": [
    "t1_list = np.arange(0.2, 10, 0.2)\n",
    "len_t1 = len(t1_list)\n",
    "t2_list = np.arange(0.2, 15, 0.2)\n",
    "len_t2 = len(t2_list)\n",
    "dt = 0.1\n",
    "\n",
    "print(len_t1)\n",
    "print(len_t2)\n",
    "print(t1_list)\n",
    "print(t2_list)\n",
    "rebound_2d = []\n",
    "df_data = pd.DataFrame()\n"
   ]
  },
  {
   "cell_type": "code",
   "execution_count": 3,
   "id": "0e62f9a6",
   "metadata": {},
   "outputs": [],
   "source": [
    "for i in range(len_t1):\n",
    "    rebound_list = []\n",
    "    for j in range(len_t2):\n",
    "        filename = 'virus_change_csv_2022/virus_changet1='+str(t1_list[i])+'_t2='+str(t2_list[j])+'.csv'\n",
    "        if os.path.exists(filename) == True:\n",
    "            listname = t2_list[j]\n",
    "            csv_2d = []\n",
    "            with open(filename) as f:\n",
    "                reader = csv.reader(f)\n",
    "                l = [row for row in reader]\n",
    "            # print(l)\n",
    "\n",
    "            vlist_2d = [row[1:] for row in l[1:]]\n",
    "            vlist = list(itertools.chain.from_iterable(vlist_2d))\n",
    "            # print(vlist[2])\n",
    "            len_vlist = len(vlist)\n",
    "            vmax = max(vlist)\n",
    "            # print(max(vlist))\n",
    "            # print(range_vlist)\n",
    "            \n",
    "            num_t2 = int(listname/dt + 1)\n",
    "#             print(listname)\n",
    "#             print (num_t2)\n",
    "\n",
    "            v_t2 = vlist[num_t2:]\n",
    "            t2_fl = [float(k) for k in v_t2]\n",
    "            # print (after_peak)\n",
    "\n",
    "            len_t2_fl = len(t2_fl)\n",
    "            for k in range(len_t2_fl-1):\n",
    "                sa = t2_fl[k+1] - t2_fl[k]\n",
    "                if sa>0:\n",
    "                    rebound = 2\n",
    "                    break\n",
    "                else:\n",
    "                    rebound = 1\n",
    "        else:\n",
    "            rebound = 0\n",
    "        rebound_list.append(rebound)\n",
    "    rebound_2d.append(rebound_list)\n"
   ]
  },
  {
   "cell_type": "code",
   "execution_count": 4,
   "id": "5194ff46",
   "metadata": {},
   "outputs": [],
   "source": [
    "df_data = pd.DataFrame(rebound_2d)\n",
    "\n",
    "index_list = [round(i, 1) for i in t1_list]\n",
    "columns_list = [round(i, 1) for i in t2_list]\n",
    "\n",
    "df_data.index = index_list\n",
    "df_data.columns = columns_list\n",
    "df_data2 = df_data.T\n",
    "df_data3 = df_data2.iloc[::-1]\n",
    "\n",
    "# # print(df_data3)\n",
    "# print(index_list)\n",
    "# print(df_data3.index)\n",
    "# print(df_data.index)"
   ]
  },
  {
   "cell_type": "code",
   "execution_count": 6,
   "id": "e61a4c10",
   "metadata": {},
   "outputs": [
    {
     "data": {
      "image/png": "[encoded data removed]",
      "text/plain": [
       "<Figure size 832x624 with 1 Axes>"
      ]
     },
     "metadata": {},
     "output_type": "display_data"
    }
   ],
   "source": [
    "plt.rcParams['font.family'] = 'Times New Roman'\n",
    "plt.rcParams['font.size'] = 14\n",
    "plt.rcParams[\"mathtext.fontset\"] = 'stix'\n",
    "fig, ax = plt.subplots(dpi=130)\n",
    "sns.heatmap(df_data3, ax =ax, cbar=False, square=True, cmap='Blues', xticklabels =8, yticklabels =6)\n",
    "plt.xlabel(r\"$t1$ \",fontsize=20)\n",
    "plt.ylabel(r\"$t2$ \",fontsize=20)\n",
    "plt.savefig('df_rebound.png')"
   ]
  },
  {
   "cell_type": "code",
   "execution_count": null,
   "id": "2f1997cc",
   "metadata": {},
   "outputs": [],
   "source": []
  }
 ],
 "metadata": {
  "kernelspec": {
   "display_name": "Python 3 (ipykernel)",
   "language": "python",
   "name": "python3"
  },
  "language_info": {
   "codemirror_mode": {
    "name": "ipython",
    "version": 3
   },
   "file_extension": ".py",
   "mimetype": "text/x-python",
   "name": "python",
   "nbconvert_exporter": "python",
   "pygments_lexer": "ipython3",
   "version": "3.9.13"
  }
 },
 "nbformat": 4,
 "nbformat_minor": 5
}
