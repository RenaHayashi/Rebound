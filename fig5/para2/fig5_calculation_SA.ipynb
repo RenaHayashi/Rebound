{
 "cells": [
  {
   "cell_type": "code",
   "execution_count": 129,
   "id": "078913fd",
   "metadata": {},
   "outputs": [],
   "source": [
    "import pandas as pd\n",
    "import matplotlib.pyplot as plt\n",
    "from matplotlib import ticker, cm, colors\n",
    "from matplotlib.colors import LogNorm\n",
    "import seaborn as sns\n",
    "import numpy as np\n",
    "from scipy.integrate import odeint\n",
    "from scipy.integrate import ode\n",
    "import scipy.ndimage\n",
    "import glob\n",
    "import os\n",
    "from fractions import Fraction\n",
    "import csv\n",
    "import itertools\n",
    "import math\n",
    "from scipy import stats\n",
    "import random"
   ]
  },
  {
   "cell_type": "code",
   "execution_count": 130,
   "id": "3ab26fdf",
   "metadata": {},
   "outputs": [],
   "source": [
    "# colormapをカスタマイズする\n",
    "from matplotlib.colors import LinearSegmentedColormap\n",
    "\n",
    "def generate_cmap(colors):\n",
    "    \"\"\"自分で定義したカラーマップを返す\"\"\"\n",
    "    values = range(len(colors))\n",
    "\n",
    "    vmax = np.ceil(np.max(values))\n",
    "    color_list = []\n",
    "    for v, c in zip(values, colors):\n",
    "        color_list.append( ( v/ vmax, c) )\n",
    "    return LinearSegmentedColormap.from_list('custom_cmap', color_list)\n",
    "\n",
    "##### cmap for c_alpha_beta #####\n",
    "cm = generate_cmap(['gray', 'black'])\n",
    "\n",
    "def func_1(x, t, pars):\n",
    "\t#print(v_int)\n",
    "\t#print(solve.t+dt-solve.t)\n",
    "\t#print(solve.integrate(solve.t+dt)[0])\n",
    "\treturn [(pars[1]/(1+pars[5]))*x[0] - pars[6]*x[1]*x[0], pars[0]*x[0] + pars[2]*x[2] - pars[4]*x[1], pars[3]*x[0]]\n"
   ]
  },
  {
   "cell_type": "code",
   "execution_count": 131,
   "id": "e2e46aa0",
   "metadata": {},
   "outputs": [],
   "source": [
    "# os.makedirs(\"./r_pdf/\", exist_ok=True)\n",
    "# os.makedirs(\"./d_pdf/\", exist_ok=True)\n",
    "# os.makedirs(\"./b_pdf/\", exist_ok=True)\n",
    "# os.makedirs(\"./a_pdf/\", exist_ok=True)\n",
    "# os.makedirs(\"./q_pdf/\", exist_ok=True)\n",
    "# os.makedirs(\"./c_pdf/\", exist_ok=True)\n",
    "# os.makedirs(\"./u_pdf/\", exist_ok=True)"
   ]
  },
  {
   "cell_type": "code",
   "execution_count": 141,
   "id": "6ebecf9d",
   "metadata": {},
   "outputs": [],
   "source": [
    "plt.rcParams['font.family'] = 'Times New Roman'\n",
    "plt.rcParams['font.size'] = 14\n",
    "plt.rcParams[\"mathtext.fontset\"] = 'stix'\n",
    "\n",
    "v_int=0\n",
    "dt = 0.1\n",
    "t_end=30\n",
    "\n",
    "value_list = [1.2, 1, 0.833]\n",
    "# pars1=[0.8, 0.2, 1, 1, 0.1, 0.5, 1]\n",
    "# r, d, b, a, q, c, u"
   ]
  },
  {
   "cell_type": "code",
   "execution_count": 142,
   "id": "0f6de0d5",
   "metadata": {},
   "outputs": [
    {
     "name": "stdout",
     "output_type": "stream",
     "text": [
      "           0         1         2         3         4         5         6\n",
      "0   0.322581 -1.382979 -0.744681 -0.531915 -0.638298 -1.117021 -0.372340\n",
      "1  -1.544118 -1.875000 -1.323529 -1.250000 -1.250000 -1.250000 -0.441176\n",
      "2   1.000000 -0.882353  0.294118  0.117647 -0.529412 -0.352941 -0.294118\n",
      "3  -0.787037 -1.157407 -0.185185 -0.324074 -0.324074  1.157407 -0.185185\n",
      "4  -0.765766 -0.765766 -0.765766 -0.765766 -0.765766  1.351351 -0.450450\n",
      "..       ...       ...       ...       ...       ...       ...       ...\n",
      "95  2.062500  0.750000  0.750000  0.750000  2.937500  0.750000 -0.250000\n",
      "96 -1.900826 -2.190083 -1.694215 -1.611570 -0.743802 -0.743802 -0.289256\n",
      "97  0.215054  0.752688  0.752688  0.752688  1.290323  0.107527 -0.322581\n",
      "98 -0.204082 -0.663265  0.204082  0.102041  0.612245  0.510204 -0.306122\n",
      "99 -0.210526 -1.210526 -0.421053 -0.315789  0.736842  0.684211 -0.263158\n",
      "\n",
      "[100 rows x 7 columns]\n"
     ]
    }
   ],
   "source": [
    "sa2_list=[]\n",
    "# df_sa=pd.DataFrame({'r', 'd', 'b', 'a', 'q', 'c', 'u'})\n",
    "\n",
    "for j in range(1000):\n",
    "    pars =[]\n",
    "    for i in range(7):\n",
    "        value = random.choice(value_list)\n",
    "        if i==2:\n",
    "            value /=10\n",
    "        pars.append(value)\n",
    "\n",
    "#     print(pars)\n",
    "    r=pars[0]\n",
    "    d=pars[1]\n",
    "    b=pars[2]\n",
    "    rbar=r/(1+d)\n",
    "    #  print(r)\n",
    "\n",
    "    df_V=pd.DataFrame()\n",
    "    df_H=pd.DataFrame()\n",
    "    df_M=pd.DataFrame()\n",
    "    df_VHM=pd.DataFrame()\n",
    "    df_plot=pd.DataFrame()\n",
    "    x= [0.1,0,0]\n",
    "    v_int=0\n",
    "    list_t=[]\n",
    "    list_V=[]\n",
    "    list_H=[]\n",
    "    list_M=[]\n",
    "\n",
    "    ### drug ####\n",
    "    ###  array  ####\n",
    "    t0=np.arange(0,t_end,dt)\n",
    "    y0 = odeint(func_1, (x[0],x[1],x[2]), t0, args= (pars,))\n",
    "\n",
    "    ###  list  ###\n",
    "    t_list=list(t0)\n",
    "    V_list=list(y0[:,0])\n",
    "    H_list=list(y0[:,1])\n",
    "    M_list=list(y0[:,2])\n",
    "\n",
    "    df_VHM[\"t\"]=t_list\n",
    "    df_VHM[\"V\"]=V_list\n",
    "    df_VHM[\"H\"]=H_list\n",
    "    df_VHM[\"M\"]=M_list\n",
    "\n",
    "    df_VHM[\"bH\"]=df_VHM[\"H\"]*b\n",
    "    x=df_VHM[\"t\"]\n",
    "    y= df_VHM[\"bH\"]\n",
    "\n",
    "\n",
    "    tau = y[60:150]\n",
    "    high = np.abs(np.asarray(tau) - r).argmin()\n",
    "    high = 60+high\n",
    "    tau_high=high/10\n",
    "    sa_list=[]\n",
    "    \n",
    "    if tau_high != 6 and tau_high !=14.9:\n",
    "#         ここから感度分析\n",
    "        for k in range(7):\n",
    "            pars1 = pars\n",
    "            pars2[k] = 1.2*pars1[k]\n",
    "#             print(pars, pars2)\n",
    "            df_V=pd.DataFrame()\n",
    "            df_H=pd.DataFrame()\n",
    "            df_M=pd.DataFrame()\n",
    "            df_VHM=pd.DataFrame()\n",
    "            df_plot=pd.DataFrame()\n",
    "            x= [0.1,0,0]\n",
    "            v_int=0\n",
    "            list_t=[]\n",
    "            list_V=[]\n",
    "            list_H=[]\n",
    "            list_M=[]\n",
    "\n",
    "            ### drug ####\n",
    "            ###  array  ####\n",
    "            t0=np.arange(0,t_end,dt)\n",
    "            y0 = odeint(func_1, (x[0],x[1],x[2]), t0, args= (pars2,))\n",
    "\n",
    "            ###  list  ###\n",
    "            t_list=list(t0)\n",
    "            V_list=list(y0[:,0])\n",
    "            H_list=list(y0[:,1])\n",
    "            M_list=list(y0[:,2])\n",
    "\n",
    "            df_VHM[\"t\"]=t_list\n",
    "            df_VHM[\"V\"]=V_list\n",
    "            df_VHM[\"H\"]=H_list\n",
    "            df_VHM[\"M\"]=M_list\n",
    "\n",
    "            df_VHM[\"bH\"]=df_VHM[\"H\"]*b\n",
    "            x=df_VHM[\"t\"]\n",
    "            y= df_VHM[\"bH\"]\n",
    "\n",
    "            tau = y[60:150]\n",
    "            high = np.abs(np.asarray(tau) - r).argmin()\n",
    "            high = 60+high\n",
    "            tau_high2=high/10\n",
    "            if tau_high2 != 6 and tau_high2 !=14.9:\n",
    "#                 print(tau_high, tau_high2)\n",
    "                sa = (pars[k]/tau_high)*((tau_high2-tau_high)/(pars2[k]-pars[k]))\n",
    "            if sa == np.nan:\n",
    "                break\n",
    "            sa_list.append(sa)\n",
    "            pars2[k] = pars[k]\n",
    "        sa2_list.append(sa_list)\n",
    "#         print(sa2_list)\n",
    "        if len(sa2_list)==100:\n",
    "            df_sa = pd.DataFrame(sa2_list)\n",
    "            print(df_sa)\n",
    "            break"
   ]
  },
  {
   "cell_type": "code",
   "execution_count": 143,
   "id": "6a6ae829",
   "metadata": {},
   "outputs": [
    {
     "data": {
      "image/png": "[encoded data removed]",
      "text/plain": [
       "<Figure size 640x480 with 1 Axes>"
      ]
     },
     "metadata": {},
     "output_type": "display_data"
    }
   ],
   "source": [
    "fig, ax = plt.subplots()\n",
    "bp = ax.boxplot(df_sa, whis=1.5)\n",
    "ax.set_xticklabels(['a', 'r','q', 'u','c', 'd', 'b'])\n",
    "plt.grid()\n",
    "plt.show()\n",
    "figname='fig.5.pdf'\n",
    "fig.savefig(figname)"
   ]
  },
  {
   "cell_type": "code",
   "execution_count": 157,
   "id": "688b84e7",
   "metadata": {},
   "outputs": [
    {
     "data": {
      "image/png": "[encoded data removed]",
      "text/plain": [
       "<Figure size 640x480 with 1 Axes>"
      ]
     },
     "metadata": {},
     "output_type": "display_data"
    }
   ],
   "source": [
    "x=[0, 1, 2, 3, 4, 5, 6]\n",
    "mean = df_sa.mean()\n",
    "std=df_sa.std()\n",
    "plt.bar(x, mean, yerr=std, capsize=10)\n",
    "figname='fig.5_bar.pdf'\n",
    "plt.savefig(figname)"
   ]
  },
  {
   "cell_type": "code",
   "execution_count": 151,
   "id": "1d568920",
   "metadata": {},
   "outputs": [
    {
     "name": "stdout",
     "output_type": "stream",
     "text": [
      "0   -0.372664\n",
      "1   -0.814910\n",
      "2   -0.080669\n",
      "3   -0.023335\n",
      "4    0.325791\n",
      "5    0.392491\n",
      "6   -0.342060\n",
      "dtype: float64 0    1.106887\n",
      "1    0.763230\n",
      "2    0.955607\n",
      "3    0.956187\n",
      "4    0.975775\n",
      "5    0.685312\n",
      "6    0.134610\n",
      "dtype: float64\n"
     ]
    }
   ],
   "source": [
    "print(mean, std)"
   ]
  },
  {
   "cell_type": "code",
   "execution_count": null,
   "id": "9360f443",
   "metadata": {},
   "outputs": [],
   "source": []
  }
 ],
 "metadata": {
  "kernelspec": {
   "display_name": "Python 3 (ipykernel)",
   "language": "python",
   "name": "python3"
  },
  "language_info": {
   "codemirror_mode": {
    "name": "ipython",
    "version": 3
   },
   "file_extension": ".py",
   "mimetype": "text/x-python",
   "name": "python",
   "nbconvert_exporter": "python",
   "pygments_lexer": "ipython3",
   "version": "3.9.13"
  }
 },
 "nbformat": 4,
 "nbformat_minor": 5
}
